{
 "cells": [
  {
   "cell_type": "code",
   "execution_count": 1,
   "metadata": {},
   "outputs": [],
   "source": [
    "import pandas as pd"
   ]
  },
  {
   "cell_type": "code",
   "execution_count": 2,
   "metadata": {},
   "outputs": [],
   "source": [
    "df = pd.read_parquet('data/ML_data.parquet')"
   ]
  },
  {
   "cell_type": "code",
   "execution_count": 12,
   "metadata": {},
   "outputs": [],
   "source": [
    "groupings = pd.read_parquet('data/gl_groupings.parquet')\n",
    "groupings = groupings.set_index('gl')"
   ]
  },
  {
   "cell_type": "code",
   "execution_count": 3,
   "metadata": {},
   "outputs": [
    {
     "name": "stdout",
     "output_type": "stream",
     "text": [
      "<class 'pandas.core.frame.DataFrame'>\n",
      "RangeIndex: 2107826 entries, 0 to 2107825\n",
      "Data columns (total 18 columns):\n",
      " #   Column                                                                      Dtype  \n",
      "---  ------                                                                      -----  \n",
      " 0   Accounting_Document_Header_Client                                           int64  \n",
      " 1   Accounting_Document_Header_Company_Code                                     object \n",
      " 2   Accounting_Document_Header_Document_Number_of_an_Accounting_Document        int64  \n",
      " 3   Accounting_Document_Header_Fiscal_Year                                      int64  \n",
      " 4   Accounting_Document_Header_Currency_Key                                     object \n",
      " 5   Accounting_Document_Segment_Client                                          int64  \n",
      " 6   Accounting_Document_Segment_Company_Code                                    object \n",
      " 7   Accounting_Document_Segment_Document_Number_of_an_Accounting_Document       int64  \n",
      " 8   Accounting_Document_Segment_Fiscal_Year                                     int64  \n",
      " 9   Accounting_Document_Segment_Number_of_Line_Item_Within_Accounting_Document  int64  \n",
      " 10  Accounting_Document_Segment_Posting_Key                                     int64  \n",
      " 11  Accounting_Document_Segment_Amount_in_local_currency                        float64\n",
      " 12  Accounting_Document_Segment_Amount_in_document_currency                     float64\n",
      " 13  Accounting_Document_Segment_Transaction_Key                                 object \n",
      " 14  Accounting_Document_Segment_General_Ledger_Account                          int64  \n",
      " 15  Accounting_Document_Segment_Profit_Center                                   float64\n",
      " 16  long_text                                                                   string \n",
      " 17  grouping                                                                    object \n",
      "dtypes: float64(3), int64(9), object(5), string(1)\n",
      "memory usage: 289.5+ MB\n"
     ]
    }
   ],
   "source": [
    "df.info()"
   ]
  },
  {
   "cell_type": "code",
   "execution_count": 6,
   "metadata": {},
   "outputs": [],
   "source": [
    "mappings = {'Accounting_Document_Header_Document_Number_of_an_Accounting_Document':'BELNR','Accounting_Document_Segment_Posting_Key':'BSCHL',\n",
    "            'Accounting_Document_Header_Company_Code':'BUKRS','Accounting_Document_Header_Fiscal_Year':'YEAR', 'grouping':'HKONT_grouping',\n",
    "            'Accounting_Document_Segment_General_Ledger_Account':'HKONT','Accounting_Document_Header_Currency_Key':'WAERS','long_text':'HKONT_text',\n",
    "            'Accounting_Document_Segment_Amount_in_document_currency':'WRBTR','Accounting_Document_Segment_Amount_in_local_currency':'DMBTR'}"
   ]
  },
  {
   "cell_type": "code",
   "execution_count": 7,
   "metadata": {},
   "outputs": [],
   "source": [
    "df = df.rename(columns=mappings)[[mappings[i] for i in mappings]]"
   ]
  },
  {
   "cell_type": "code",
   "execution_count": 14,
   "metadata": {},
   "outputs": [],
   "source": [
    "# df['BSCHL'] = df['BSCHL'].astype('string')\n",
    "df['BSCHL'] = df['BSCHL'].astype('string')\n",
    "df['WAERS'] = df['WAERS'].astype('string')\n",
    "df['BUKRS'] = df['BUKRS'].astype('string')"
   ]
  },
  {
   "cell_type": "code",
   "execution_count": 23,
   "metadata": {},
   "outputs": [],
   "source": [
    "df = df.join(groupings, on = 'HKONT', how='left')"
   ]
  },
  {
   "cell_type": "code",
   "execution_count": 2,
   "metadata": {},
   "outputs": [],
   "source": [
    "# df"
   ]
  },
  {
   "cell_type": "code",
   "execution_count": 1,
   "metadata": {},
   "outputs": [],
   "source": [
    "# df.drop_duplicates(subset = ['BELNR','HKONT','BUKRS','BSCHL'])"
   ]
  },
  {
   "cell_type": "code",
   "execution_count": 26,
   "metadata": {},
   "outputs": [],
   "source": [
    "df.to_parquet('data/ML_data/input.parquet', index=False)"
   ]
  },
  {
   "cell_type": "code",
   "execution_count": null,
   "metadata": {},
   "outputs": [],
   "source": []
  }
 ],
 "metadata": {
  "kernelspec": {
   "display_name": "aenn",
   "language": "python",
   "name": "python3"
  },
  "language_info": {
   "codemirror_mode": {
    "name": "ipython",
    "version": 3
   },
   "file_extension": ".py",
   "mimetype": "text/x-python",
   "name": "python",
   "nbconvert_exporter": "python",
   "pygments_lexer": "ipython3",
   "version": "3.12.4"
  }
 },
 "nbformat": 4,
 "nbformat_minor": 2
}
