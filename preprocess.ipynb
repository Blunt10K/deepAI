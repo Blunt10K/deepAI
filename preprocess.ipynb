{
 "cells": [
  {
   "cell_type": "code",
   "execution_count": 1,
   "metadata": {},
   "outputs": [],
   "source": [
    "import pandas as pd"
   ]
  },
  {
   "cell_type": "code",
   "execution_count": 2,
   "metadata": {},
   "outputs": [],
   "source": [
    "df = pd.read_parquet('data/ML_data.parquet')"
   ]
  },
  {
   "cell_type": "code",
   "execution_count": 3,
   "metadata": {},
   "outputs": [
    {
     "name": "stdout",
     "output_type": "stream",
     "text": [
      "<class 'pandas.core.frame.DataFrame'>\n",
      "RangeIndex: 2107826 entries, 0 to 2107825\n",
      "Data columns (total 18 columns):\n",
      " #   Column                                                                      Dtype  \n",
      "---  ------                                                                      -----  \n",
      " 0   Accounting_Document_Header_Client                                           int64  \n",
      " 1   Accounting_Document_Header_Company_Code                                     object \n",
      " 2   Accounting_Document_Header_Document_Number_of_an_Accounting_Document        int64  \n",
      " 3   Accounting_Document_Header_Fiscal_Year                                      int64  \n",
      " 4   Accounting_Document_Header_Currency_Key                                     object \n",
      " 5   Accounting_Document_Segment_Client                                          int64  \n",
      " 6   Accounting_Document_Segment_Company_Code                                    object \n",
      " 7   Accounting_Document_Segment_Document_Number_of_an_Accounting_Document       int64  \n",
      " 8   Accounting_Document_Segment_Fiscal_Year                                     int64  \n",
      " 9   Accounting_Document_Segment_Number_of_Line_Item_Within_Accounting_Document  int64  \n",
      " 10  Accounting_Document_Segment_Posting_Key                                     int64  \n",
      " 11  Accounting_Document_Segment_Amount_in_local_currency                        float64\n",
      " 12  Accounting_Document_Segment_Amount_in_document_currency                     float64\n",
      " 13  Accounting_Document_Segment_Transaction_Key                                 object \n",
      " 14  Accounting_Document_Segment_General_Ledger_Account                          int64  \n",
      " 15  Accounting_Document_Segment_Profit_Center                                   float64\n",
      " 16  long_text                                                                   string \n",
      " 17  grouping                                                                    object \n",
      "dtypes: float64(3), int64(9), object(5), string(1)\n",
      "memory usage: 289.5+ MB\n"
     ]
    }
   ],
   "source": [
    "df.info()"
   ]
  },
  {
   "cell_type": "code",
   "execution_count": 4,
   "metadata": {},
   "outputs": [
    {
     "data": {
      "text/plain": [
       "0    100000000\n",
       "1    100000000\n",
       "2    100000002\n",
       "3    100000002\n",
       "4    100000010\n",
       "Name: Accounting_Document_Header_Document_Number_of_an_Accounting_Document, dtype: int64"
      ]
     },
     "execution_count": 4,
     "metadata": {},
     "output_type": "execute_result"
    }
   ],
   "source": [
    "df.Accounting_Document_Header_Document_Number_of_an_Accounting_Document.head()"
   ]
  },
  {
   "cell_type": "code",
   "execution_count": 5,
   "metadata": {},
   "outputs": [
    {
     "data": {
      "text/plain": [
       "0    1143733\n",
       "1    6045011\n",
       "2    1143731\n",
       "3    1143731\n",
       "4    1143731\n",
       "Name: Accounting_Document_Segment_General_Ledger_Account, dtype: int64"
      ]
     },
     "execution_count": 5,
     "metadata": {},
     "output_type": "execute_result"
    }
   ],
   "source": [
    "df.Accounting_Document_Segment_General_Ledger_Account.head()"
   ]
  },
  {
   "cell_type": "code",
   "execution_count": 6,
   "metadata": {},
   "outputs": [],
   "source": [
    "mappings = {'Accounting_Document_Header_Document_Number_of_an_Accounting_Document':'BELNR','Accounting_Document_Segment_Posting_Key':'BSCHL',\n",
    "            'Accounting_Document_Header_Company_Code':'BUKRS','Accounting_Document_Header_Fiscal_Year':'YEAR', 'grouping':'HKONT_grouping',\n",
    "            'Accounting_Document_Segment_General_Ledger_Account':'HKONT','Accounting_Document_Header_Currency_Key':'WAERS','long_text':'HKONT_text',\n",
    "            'Accounting_Document_Segment_Amount_in_document_currency':'WRBTR','Accounting_Document_Segment_Amount_in_local_currency':'DMBTR'}"
   ]
  },
  {
   "cell_type": "code",
   "execution_count": 7,
   "metadata": {},
   "outputs": [],
   "source": [
    "df = df.rename(columns=mappings)[[mappings[i] for i in mappings]]"
   ]
  },
  {
   "cell_type": "code",
   "execution_count": 8,
   "metadata": {},
   "outputs": [
    {
     "name": "stdout",
     "output_type": "stream",
     "text": [
      "<class 'pandas.core.frame.DataFrame'>\n",
      "RangeIndex: 2107826 entries, 0 to 2107825\n",
      "Data columns (total 10 columns):\n",
      " #   Column          Dtype  \n",
      "---  ------          -----  \n",
      " 0   BELNR           int64  \n",
      " 1   BSCHL           int64  \n",
      " 2   BUKRS           object \n",
      " 3   YEAR            int64  \n",
      " 4   HKONT_grouping  object \n",
      " 5   HKONT           int64  \n",
      " 6   WAERS           object \n",
      " 7   HKONT_text      string \n",
      " 8   WRBTR           float64\n",
      " 9   DMBTR           float64\n",
      "dtypes: float64(2), int64(4), object(3), string(1)\n",
      "memory usage: 160.8+ MB\n"
     ]
    }
   ],
   "source": [
    "df.info()"
   ]
  },
  {
   "cell_type": "code",
   "execution_count": 9,
   "metadata": {},
   "outputs": [],
   "source": [
    "# df['BSCHL'] = df['BSCHL'].astype('string')\n",
    "df['BSCHL'] = df['BSCHL'].astype('string')\n",
    "df['WAERS'] = df['WAERS'].astype('string')\n",
    "df['BUKRS'] = df['BUKRS'].astype('string')"
   ]
  },
  {
   "cell_type": "code",
   "execution_count": 10,
   "metadata": {},
   "outputs": [
    {
     "data": {
      "text/html": [
       "<div>\n",
       "<style scoped>\n",
       "    .dataframe tbody tr th:only-of-type {\n",
       "        vertical-align: middle;\n",
       "    }\n",
       "\n",
       "    .dataframe tbody tr th {\n",
       "        vertical-align: top;\n",
       "    }\n",
       "\n",
       "    .dataframe thead th {\n",
       "        text-align: right;\n",
       "    }\n",
       "</style>\n",
       "<table border=\"1\" class=\"dataframe\">\n",
       "  <thead>\n",
       "    <tr style=\"text-align: right;\">\n",
       "      <th></th>\n",
       "      <th>BELNR</th>\n",
       "      <th>BSCHL</th>\n",
       "      <th>BUKRS</th>\n",
       "      <th>YEAR</th>\n",
       "      <th>HKONT_grouping</th>\n",
       "      <th>HKONT</th>\n",
       "      <th>WAERS</th>\n",
       "      <th>HKONT_text</th>\n",
       "      <th>WRBTR</th>\n",
       "      <th>DMBTR</th>\n",
       "    </tr>\n",
       "  </thead>\n",
       "  <tbody>\n",
       "    <tr>\n",
       "      <th>0</th>\n",
       "      <td>100000000</td>\n",
       "      <td>50</td>\n",
       "      <td>IBE</td>\n",
       "      <td>2023</td>\n",
       "      <td>unlabelled</td>\n",
       "      <td>1143733</td>\n",
       "      <td>CHF</td>\n",
       "      <td>&lt;NA&gt;</td>\n",
       "      <td>0.00</td>\n",
       "      <td>0.01</td>\n",
       "    </tr>\n",
       "    <tr>\n",
       "      <th>1</th>\n",
       "      <td>100000000</td>\n",
       "      <td>40</td>\n",
       "      <td>IBE</td>\n",
       "      <td>2023</td>\n",
       "      <td>running_costs</td>\n",
       "      <td>6045011</td>\n",
       "      <td>CHF</td>\n",
       "      <td>Foreign exchange losses</td>\n",
       "      <td>0.00</td>\n",
       "      <td>0.01</td>\n",
       "    </tr>\n",
       "    <tr>\n",
       "      <th>2</th>\n",
       "      <td>100000002</td>\n",
       "      <td>40</td>\n",
       "      <td>IBE</td>\n",
       "      <td>2023</td>\n",
       "      <td>unlabelled</td>\n",
       "      <td>1143731</td>\n",
       "      <td>USD</td>\n",
       "      <td>&lt;NA&gt;</td>\n",
       "      <td>9586.94</td>\n",
       "      <td>9586.94</td>\n",
       "    </tr>\n",
       "    <tr>\n",
       "      <th>3</th>\n",
       "      <td>100000002</td>\n",
       "      <td>50</td>\n",
       "      <td>IBE</td>\n",
       "      <td>2023</td>\n",
       "      <td>unlabelled</td>\n",
       "      <td>1143731</td>\n",
       "      <td>USD</td>\n",
       "      <td>&lt;NA&gt;</td>\n",
       "      <td>9586.94</td>\n",
       "      <td>9586.94</td>\n",
       "    </tr>\n",
       "    <tr>\n",
       "      <th>4</th>\n",
       "      <td>100000010</td>\n",
       "      <td>40</td>\n",
       "      <td>IBE</td>\n",
       "      <td>2023</td>\n",
       "      <td>unlabelled</td>\n",
       "      <td>1143731</td>\n",
       "      <td>USD</td>\n",
       "      <td>&lt;NA&gt;</td>\n",
       "      <td>11584.66</td>\n",
       "      <td>11584.66</td>\n",
       "    </tr>\n",
       "    <tr>\n",
       "      <th>...</th>\n",
       "      <td>...</td>\n",
       "      <td>...</td>\n",
       "      <td>...</td>\n",
       "      <td>...</td>\n",
       "      <td>...</td>\n",
       "      <td>...</td>\n",
       "      <td>...</td>\n",
       "      <td>...</td>\n",
       "      <td>...</td>\n",
       "      <td>...</td>\n",
       "    </tr>\n",
       "    <tr>\n",
       "      <th>2107821</th>\n",
       "      <td>9500000988</td>\n",
       "      <td>50</td>\n",
       "      <td>UNES</td>\n",
       "      <td>2023</td>\n",
       "      <td>clearing_accounts</td>\n",
       "      <td>5098020</td>\n",
       "      <td>BRL</td>\n",
       "      <td>UBO clearing account</td>\n",
       "      <td>153866.55</td>\n",
       "      <td>31046.52</td>\n",
       "    </tr>\n",
       "    <tr>\n",
       "      <th>2107822</th>\n",
       "      <td>9500000989</td>\n",
       "      <td>27</td>\n",
       "      <td>UNES</td>\n",
       "      <td>2023</td>\n",
       "      <td>accounts_payable</td>\n",
       "      <td>2021011</td>\n",
       "      <td>BRL</td>\n",
       "      <td>Vendors payable</td>\n",
       "      <td>195084.17</td>\n",
       "      <td>39363.23</td>\n",
       "    </tr>\n",
       "    <tr>\n",
       "      <th>2107823</th>\n",
       "      <td>9500000989</td>\n",
       "      <td>50</td>\n",
       "      <td>UNES</td>\n",
       "      <td>2023</td>\n",
       "      <td>clearing_accounts</td>\n",
       "      <td>5098020</td>\n",
       "      <td>BRL</td>\n",
       "      <td>UBO clearing account</td>\n",
       "      <td>195084.17</td>\n",
       "      <td>39363.23</td>\n",
       "    </tr>\n",
       "    <tr>\n",
       "      <th>2107824</th>\n",
       "      <td>9500000990</td>\n",
       "      <td>37</td>\n",
       "      <td>UNES</td>\n",
       "      <td>2023</td>\n",
       "      <td>accounts_payable</td>\n",
       "      <td>2021042</td>\n",
       "      <td>BRL</td>\n",
       "      <td>Reimbursement of staff expenses claims</td>\n",
       "      <td>1131.90</td>\n",
       "      <td>228.39</td>\n",
       "    </tr>\n",
       "    <tr>\n",
       "      <th>2107825</th>\n",
       "      <td>9500000990</td>\n",
       "      <td>40</td>\n",
       "      <td>UNES</td>\n",
       "      <td>2023</td>\n",
       "      <td>clearing_accounts</td>\n",
       "      <td>5098020</td>\n",
       "      <td>BRL</td>\n",
       "      <td>UBO clearing account</td>\n",
       "      <td>1131.90</td>\n",
       "      <td>228.39</td>\n",
       "    </tr>\n",
       "  </tbody>\n",
       "</table>\n",
       "<p>1349643 rows × 10 columns</p>\n",
       "</div>"
      ],
      "text/plain": [
       "              BELNR BSCHL BUKRS  YEAR     HKONT_grouping    HKONT WAERS  \\\n",
       "0         100000000    50   IBE  2023         unlabelled  1143733   CHF   \n",
       "1         100000000    40   IBE  2023      running_costs  6045011   CHF   \n",
       "2         100000002    40   IBE  2023         unlabelled  1143731   USD   \n",
       "3         100000002    50   IBE  2023         unlabelled  1143731   USD   \n",
       "4         100000010    40   IBE  2023         unlabelled  1143731   USD   \n",
       "...             ...   ...   ...   ...                ...      ...   ...   \n",
       "2107821  9500000988    50  UNES  2023  clearing_accounts  5098020   BRL   \n",
       "2107822  9500000989    27  UNES  2023   accounts_payable  2021011   BRL   \n",
       "2107823  9500000989    50  UNES  2023  clearing_accounts  5098020   BRL   \n",
       "2107824  9500000990    37  UNES  2023   accounts_payable  2021042   BRL   \n",
       "2107825  9500000990    40  UNES  2023  clearing_accounts  5098020   BRL   \n",
       "\n",
       "                                     HKONT_text      WRBTR     DMBTR  \n",
       "0                                          <NA>       0.00      0.01  \n",
       "1                       Foreign exchange losses       0.00      0.01  \n",
       "2                                          <NA>    9586.94   9586.94  \n",
       "3                                          <NA>    9586.94   9586.94  \n",
       "4                                          <NA>   11584.66  11584.66  \n",
       "...                                         ...        ...       ...  \n",
       "2107821                    UBO clearing account  153866.55  31046.52  \n",
       "2107822                         Vendors payable  195084.17  39363.23  \n",
       "2107823                    UBO clearing account  195084.17  39363.23  \n",
       "2107824  Reimbursement of staff expenses claims    1131.90    228.39  \n",
       "2107825                    UBO clearing account    1131.90    228.39  \n",
       "\n",
       "[1349643 rows x 10 columns]"
      ]
     },
     "execution_count": 10,
     "metadata": {},
     "output_type": "execute_result"
    }
   ],
   "source": [
    "df.drop_duplicates(subset = ['BELNR','HKONT','BUKRS','BSCHL'])"
   ]
  },
  {
   "cell_type": "code",
   "execution_count": 11,
   "metadata": {},
   "outputs": [],
   "source": [
    "df.to_parquet('data/input.parquet', index=False)"
   ]
  },
  {
   "cell_type": "code",
   "execution_count": null,
   "metadata": {},
   "outputs": [],
   "source": []
  }
 ],
 "metadata": {
  "kernelspec": {
   "display_name": "aenn",
   "language": "python",
   "name": "python3"
  },
  "language_info": {
   "codemirror_mode": {
    "name": "ipython",
    "version": 3
   },
   "file_extension": ".py",
   "mimetype": "text/x-python",
   "name": "python",
   "nbconvert_exporter": "python",
   "pygments_lexer": "ipython3",
   "version": "3.12.2"
  }
 },
 "nbformat": 4,
 "nbformat_minor": 2
}
