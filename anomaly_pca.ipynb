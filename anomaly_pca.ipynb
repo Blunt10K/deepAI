{
 "cells": [
  {
   "cell_type": "code",
   "execution_count": 1,
   "id": "5ba42f8d-dcfe-4796-86c4-22757e6ba5c4",
   "metadata": {},
   "outputs": [],
   "source": [
    "from pyspark.sql import SparkSession\n",
    "import pyspark.sql.functions as F\n",
    "import pyspark.sql.types as T\n",
    "import pandas as pd\n",
    "import re\n",
    "import datetime as dt\n",
    "# import plotly.express as px\n",
    "import pyspark.mllib.clustering as clus\n",
    "import pyspark.mllib.feature as feat\n",
    "# import pyspark.ml. as feat"
   ]
  },
  {
   "cell_type": "code",
   "execution_count": 2,
   "id": "1d9cae26-f3ad-420a-942e-70913ed0e255",
   "metadata": {},
   "outputs": [
    {
     "name": "stderr",
     "output_type": "stream",
     "text": [
      "Setting default log level to \"WARN\".\n",
      "To adjust logging level use sc.setLogLevel(newLevel). For SparkR, use setLogLevel(newLevel).\n",
      "24/07/12 17:41:09 WARN NativeCodeLoader: Unable to load native-hadoop library for your platform... using builtin-java classes where applicable\n"
     ]
    }
   ],
   "source": [
    "spark = (SparkSession.builder.master(\"local[*]\").appName('app').getOrCreate())"
   ]
  },
  {
   "cell_type": "code",
   "execution_count": 3,
   "id": "ac6a83d4-22c6-4858-bee0-6cb0d8281d9d",
   "metadata": {},
   "outputs": [],
   "source": [
    "df = spark.read.parquet('data/ML_data')"
   ]
  },
  {
   "cell_type": "code",
   "execution_count": 6,
   "id": "7225df4d-55f5-428e-a745-338c779db790",
   "metadata": {},
   "outputs": [
    {
     "name": "stdout",
     "output_type": "stream",
     "text": [
      "+---------+-----+-----+----+------------------+-------+-----+--------------------+--------+--------+\n",
      "|    BELNR|BSCHL|BUKRS|YEAR|    HKONT_grouping|  HKONT|WAERS|          HKONT_text|   WRBTR|   DMBTR|\n",
      "+---------+-----+-----+----+------------------+-------+-----+--------------------+--------+--------+\n",
      "|100000000|   50|  IBE|2023|        unlabelled|1143733|  CHF|                NULL|     0.0|    0.01|\n",
      "|100000000|   40|  IBE|2023|     running_costs|6045011|  CHF|Foreign exchange ...|     0.0|    0.01|\n",
      "|100000002|   40|  IBE|2023|        unlabelled|1143731|  USD|                NULL| 9586.94| 9586.94|\n",
      "|100000002|   50|  IBE|2023|        unlabelled|1143731|  USD|                NULL| 9586.94| 9586.94|\n",
      "|100000010|   40|  IBE|2023|        unlabelled|1143731|  USD|                NULL|11584.66|11584.66|\n",
      "|100000010|   50|  IBE|2023|        unlabelled|1143731|  USD|                NULL|11584.66|11584.66|\n",
      "|100000011|   40|  IBE|2023|        unlabelled|1143733|  CHF|                NULL|     0.0|   35.27|\n",
      "|100000011|   50|  IBE|2023|     running_costs|7045011|  CHF|Foreign exchange ...|     0.0|   35.27|\n",
      "|100000013|   40|  IBE|2023|        unlabelled|1143733|  CHF|                NULL|     0.0|    1.02|\n",
      "|100000013|   50|  IBE|2023|     running_costs|7045011|  CHF|Foreign exchange ...|     0.0|    1.02|\n",
      "|100000014|   40|  IBE|2023|        unlabelled|1143733|  CHF|                NULL|     0.0|    1.02|\n",
      "|100000014|   50|  IBE|2023|     running_costs|7045011|  CHF|Foreign exchange ...|     0.0|    1.02|\n",
      "|100000020|   40|  IBE|2023|        unlabelled|1143731|  USD|                NULL| 4420.15| 4420.15|\n",
      "|100000020|   50|  IBE|2023|        unlabelled|1143731|  USD|                NULL|39887.62|39887.62|\n",
      "|100000020|   40|  IBE|2023|        unlabelled|1143731|  USD|                NULL|35467.47|35467.47|\n",
      "|100000028|   40|  IBE|2023|        unlabelled|1143731|  USD|                NULL| 4736.28| 4736.28|\n",
      "|100000028|   50|  IBE|2023|        unlabelled|1143731|  USD|                NULL| 4736.28| 4736.28|\n",
      "|100000037|   40|  IBE|2023|        unlabelled|1143733|  CHF|                NULL|     0.0|    2.03|\n",
      "|100000037|   50|  IBE|2023|     running_costs|7045011|  CHF|Foreign exchange ...|     0.0|    2.03|\n",
      "|100000038|   40|  IBE|2023|staff_travel_costs|6011511|  USD|Travel on appoint...|     4.8|     4.8|\n",
      "+---------+-----+-----+----+------------------+-------+-----+--------------------+--------+--------+\n",
      "only showing top 20 rows\n",
      "\n"
     ]
    }
   ],
   "source": [
    "df.show()"
   ]
  },
  {
   "cell_type": "code",
   "execution_count": null,
   "id": "e7f25316-fc7f-4cc3-a0f4-4e34828a717d",
   "metadata": {},
   "outputs": [],
   "source": []
  }
 ],
 "metadata": {
  "kernelspec": {
   "display_name": "Python 3 (ipykernel)",
   "language": "python",
   "name": "python3"
  },
  "language_info": {
   "codemirror_mode": {
    "name": "ipython",
    "version": 3
   },
   "file_extension": ".py",
   "mimetype": "text/x-python",
   "name": "python",
   "nbconvert_exporter": "python",
   "pygments_lexer": "ipython3",
   "version": "3.12.4"
  }
 },
 "nbformat": 4,
 "nbformat_minor": 5
}
